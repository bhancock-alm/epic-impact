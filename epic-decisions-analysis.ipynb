{
 "cells": [
  {
   "cell_type": "markdown",
   "metadata": {},
   "source": [
    "# Analyzing the Impact of *Epic Systems Corp. v. Lewis*\n",
    "\n",
    "By [Ben Hancock](https://www.law.com/author/profile/Ben-Hancock/)\n",
    "\n",
    "This is part of a data journalism project by the *National Law Journal* to assess the impact of *Epic Systems Corp. v. Lewis*, a May 2018 decision by the U.S. Supreme Court that centered on the enforceability of mandatory workplace arbitration agreements. In collaboration with [Casetext](https://casetext.com/), ee identified and categorized nearly 100 federal district and appellate decisions from 2018 that cited *Epic* in order to assess how the case is changing the law around arbitration. You can read more about our methodology in the [README file](https://github.com/bhancock-alm/epic-impact/blob/master/README.md).\n",
    "\n",
    "You are looking at a [Jupyter Notebook](https://jupyter.org/), a saved interactive data analysis and computing session that uses the Python programming language. Our goal in presenting this to our audience is to \"show our work\" and give greater transparency into the approach we took in reporting an issue with wide public interest and significance. Even if you're not a programmer, our hope is that you can follow along -- with the help of plain-language comments interspersed below -- and see the steps we took to arrive at the figures cited in our [final article](https://www.law.com/nationallawjournal/2019/02/28/epic-impact-how-a-major-scotus-decision-in-favor-of-arbitration-is-shaping-the-landscape-for-workplace-lawsuits). At bottom, we show you how we generated one of the main data visualizations presented in the story. If you're just interested in seeing the underlying data, [that's here too](https://github.com/bhancock-alm/epic-impact/blob/master/epic_data_full.csv).\n",
    "\n",
    "This is an experiment for our newsroom that aims to foster conversation with our audience in a new way. If you have questions, comments, or critiques, feel free to contact me at [bhancock@alm.com](mailto:bhancock@alm.com).\n",
    "\n",
    "---"
   ]
  },
  {
   "cell_type": "markdown",
   "metadata": {},
   "source": [
    "Import `pandas`, the [Python Data Analysis Library](https://pandas.pydata.org/), and several tools for data visualization"
   ]
  },
  {
   "cell_type": "code",
   "execution_count": 1,
   "metadata": {},
   "outputs": [],
   "source": [
    "import pandas as pd\n",
    "import matplotlib.pyplot as plt\n",
    "import seaborn as sns"
   ]
  },
  {
   "cell_type": "markdown",
   "metadata": {},
   "source": [
    "Import the data we collected on decisions citing *Epic*"
   ]
  },
  {
   "cell_type": "code",
   "execution_count": 2,
   "metadata": {},
   "outputs": [],
   "source": [
    "data = pd.read_csv('epic_data_full.csv')"
   ]
  },
  {
   "cell_type": "markdown",
   "metadata": {},
   "source": [
    "Get a feel for the data set"
   ]
  },
  {
   "cell_type": "code",
   "execution_count": 3,
   "metadata": {},
   "outputs": [
    {
     "data": {
      "text/plain": [
       "(92, 15)"
      ]
     },
     "execution_count": 3,
     "metadata": {},
     "output_type": "execute_result"
    }
   ],
   "source": [
    "data.shape"
   ]
  },
  {
   "cell_type": "code",
   "execution_count": 4,
   "metadata": {},
   "outputs": [
    {
     "data": {
      "text/plain": [
       "Index(['decision_id', 'case_name_short', 'case_name_long', 'jurisdiction_code',\n",
       "       'jurisdiction_long', 'court_type', 'decide_date', 'casetext_url',\n",
       "       'class_action', 'case_type', 'legal_issue', 'cite_context',\n",
       "       'cite_excerpt', 'outcome_code', 'decision_favor'],\n",
       "      dtype='object')"
      ]
     },
     "execution_count": 4,
     "metadata": {},
     "output_type": "execute_result"
    }
   ],
   "source": [
    "data.columns"
   ]
  },
  {
   "cell_type": "code",
   "execution_count": 5,
   "metadata": {},
   "outputs": [
    {
     "data": {
      "text/html": [
       "<div>\n",
       "<style scoped>\n",
       "    .dataframe tbody tr th:only-of-type {\n",
       "        vertical-align: middle;\n",
       "    }\n",
       "\n",
       "    .dataframe tbody tr th {\n",
       "        vertical-align: top;\n",
       "    }\n",
       "\n",
       "    .dataframe thead th {\n",
       "        text-align: right;\n",
       "    }\n",
       "</style>\n",
       "<table border=\"1\" class=\"dataframe\">\n",
       "  <thead>\n",
       "    <tr style=\"text-align: right;\">\n",
       "      <th></th>\n",
       "      <th>decision_id</th>\n",
       "      <th>case_name_short</th>\n",
       "      <th>case_name_long</th>\n",
       "      <th>jurisdiction_code</th>\n",
       "      <th>jurisdiction_long</th>\n",
       "      <th>court_type</th>\n",
       "      <th>decide_date</th>\n",
       "      <th>casetext_url</th>\n",
       "      <th>class_action</th>\n",
       "      <th>case_type</th>\n",
       "      <th>legal_issue</th>\n",
       "      <th>cite_context</th>\n",
       "      <th>cite_excerpt</th>\n",
       "      <th>outcome_code</th>\n",
       "      <th>decision_favor</th>\n",
       "    </tr>\n",
       "  </thead>\n",
       "  <tbody>\n",
       "    <tr>\n",
       "      <th>0</th>\n",
       "      <td>1</td>\n",
       "      <td>Goplin v. Weconnect, Inc.</td>\n",
       "      <td>BROOKS GOPLIN, Plaintiff-Appellee, v. WECONNEC...</td>\n",
       "      <td>7th Cir.</td>\n",
       "      <td>United States Court of Appeals For the Seventh...</td>\n",
       "      <td>circuit</td>\n",
       "      <td>2018-06-20</td>\n",
       "      <td>https://casetext.com/case/goplin-v-weconnect-i...</td>\n",
       "      <td>True</td>\n",
       "      <td>wage_hour</td>\n",
       "      <td>arbitration</td>\n",
       "      <td>in-passing</td>\n",
       "      <td>Goplin also argued, and the district court agr...</td>\n",
       "      <td>no_arb</td>\n",
       "      <td>ptf</td>\n",
       "    </tr>\n",
       "    <tr>\n",
       "      <th>1</th>\n",
       "      <td>2</td>\n",
       "      <td>Riederer v. United Healthcare Servs., Inc.</td>\n",
       "      <td>SANDRA RIEDERER, Plain tiff-Appellee, v. UNITE...</td>\n",
       "      <td>7th Cir.</td>\n",
       "      <td>United States Court of Appeals For the Seventh...</td>\n",
       "      <td>circuit</td>\n",
       "      <td>2018-07-23</td>\n",
       "      <td>https://casetext.com/case/riederer-v-united-he...</td>\n",
       "      <td>True</td>\n",
       "      <td>wage_hour</td>\n",
       "      <td>arbitration</td>\n",
       "      <td>supporting</td>\n",
       "      <td>The decision of the district court is vacated,...</td>\n",
       "      <td>other</td>\n",
       "      <td>def</td>\n",
       "    </tr>\n",
       "    <tr>\n",
       "      <th>2</th>\n",
       "      <td>3</td>\n",
       "      <td>Hernandez v. Acosta Tractors Inc.</td>\n",
       "      <td>JULIO HERNANDEZ HERNANDEZ, and all others simi...</td>\n",
       "      <td>11th Cir.</td>\n",
       "      <td>UNITED STATES COURT OF APPEALS FOR THE ELEVENT...</td>\n",
       "      <td>circuit</td>\n",
       "      <td>2018-08-07</td>\n",
       "      <td>https://casetext.com/case/hernandez-v-acosta-t...</td>\n",
       "      <td>False</td>\n",
       "      <td>wage_hour</td>\n",
       "      <td>arbitration</td>\n",
       "      <td>in-passing</td>\n",
       "      <td>We find no basis in the FAA, the caselaw, or a...</td>\n",
       "      <td>other</td>\n",
       "      <td>def</td>\n",
       "    </tr>\n",
       "    <tr>\n",
       "      <th>3</th>\n",
       "      <td>4</td>\n",
       "      <td>Gaffers v. Kelly Servs., Inc.</td>\n",
       "      <td>JONATHAN GAFFERS, Plaintiff-Appellee, v. KELLY...</td>\n",
       "      <td>6th Cir.</td>\n",
       "      <td>UNITED STATES COURT OF APPEALS FOR THE SIXTH C...</td>\n",
       "      <td>circuit</td>\n",
       "      <td>2018-08-14</td>\n",
       "      <td>https://casetext.com/case/gaffers-v-kelly-serv...</td>\n",
       "      <td>True</td>\n",
       "      <td>wage_hour</td>\n",
       "      <td>arbitration</td>\n",
       "      <td>supporting</td>\n",
       "      <td>The Supreme Court recently held that the Natio...</td>\n",
       "      <td>arb_compel</td>\n",
       "      <td>def</td>\n",
       "    </tr>\n",
       "    <tr>\n",
       "      <th>4</th>\n",
       "      <td>5</td>\n",
       "      <td>Dish Network L.L.C. v. Ray</td>\n",
       "      <td>DISH NETWORK L.L.C. and ECHOSPHERE, L.L.C. Pla...</td>\n",
       "      <td>10th Cir.</td>\n",
       "      <td>UNITED STATES COURT OF APPEALS FOR THE TENTH C...</td>\n",
       "      <td>circuit</td>\n",
       "      <td>2018-08-20</td>\n",
       "      <td>https://casetext.com/case/dish-network-v-ray-1</td>\n",
       "      <td>True</td>\n",
       "      <td>wage_hour</td>\n",
       "      <td>arbitration</td>\n",
       "      <td>supporting</td>\n",
       "      <td>By contrast, whether a claimant can proceed on...</td>\n",
       "      <td>other</td>\n",
       "      <td>ptf</td>\n",
       "    </tr>\n",
       "  </tbody>\n",
       "</table>\n",
       "</div>"
      ],
      "text/plain": [
       "   decision_id                             case_name_short  \\\n",
       "0            1                   Goplin v. Weconnect, Inc.   \n",
       "1            2  Riederer v. United Healthcare Servs., Inc.   \n",
       "2            3           Hernandez v. Acosta Tractors Inc.   \n",
       "3            4               Gaffers v. Kelly Servs., Inc.   \n",
       "4            5                  Dish Network L.L.C. v. Ray   \n",
       "\n",
       "                                      case_name_long jurisdiction_code  \\\n",
       "0  BROOKS GOPLIN, Plaintiff-Appellee, v. WECONNEC...          7th Cir.   \n",
       "1  SANDRA RIEDERER, Plain tiff-Appellee, v. UNITE...          7th Cir.   \n",
       "2  JULIO HERNANDEZ HERNANDEZ, and all others simi...         11th Cir.   \n",
       "3  JONATHAN GAFFERS, Plaintiff-Appellee, v. KELLY...          6th Cir.   \n",
       "4  DISH NETWORK L.L.C. and ECHOSPHERE, L.L.C. Pla...         10th Cir.   \n",
       "\n",
       "                                   jurisdiction_long court_type decide_date  \\\n",
       "0  United States Court of Appeals For the Seventh...    circuit  2018-06-20   \n",
       "1  United States Court of Appeals For the Seventh...    circuit  2018-07-23   \n",
       "2  UNITED STATES COURT OF APPEALS FOR THE ELEVENT...    circuit  2018-08-07   \n",
       "3  UNITED STATES COURT OF APPEALS FOR THE SIXTH C...    circuit  2018-08-14   \n",
       "4  UNITED STATES COURT OF APPEALS FOR THE TENTH C...    circuit  2018-08-20   \n",
       "\n",
       "                                        casetext_url  class_action  case_type  \\\n",
       "0  https://casetext.com/case/goplin-v-weconnect-i...          True  wage_hour   \n",
       "1  https://casetext.com/case/riederer-v-united-he...          True  wage_hour   \n",
       "2  https://casetext.com/case/hernandez-v-acosta-t...         False  wage_hour   \n",
       "3  https://casetext.com/case/gaffers-v-kelly-serv...          True  wage_hour   \n",
       "4     https://casetext.com/case/dish-network-v-ray-1          True  wage_hour   \n",
       "\n",
       "   legal_issue cite_context  \\\n",
       "0  arbitration   in-passing   \n",
       "1  arbitration   supporting   \n",
       "2  arbitration   in-passing   \n",
       "3  arbitration   supporting   \n",
       "4  arbitration   supporting   \n",
       "\n",
       "                                        cite_excerpt outcome_code  \\\n",
       "0  Goplin also argued, and the district court agr...       no_arb   \n",
       "1  The decision of the district court is vacated,...        other   \n",
       "2  We find no basis in the FAA, the caselaw, or a...        other   \n",
       "3  The Supreme Court recently held that the Natio...   arb_compel   \n",
       "4  By contrast, whether a claimant can proceed on...        other   \n",
       "\n",
       "  decision_favor  \n",
       "0            ptf  \n",
       "1            def  \n",
       "2            def  \n",
       "3            def  \n",
       "4            ptf  "
      ]
     },
     "execution_count": 5,
     "metadata": {},
     "output_type": "execute_result"
    }
   ],
   "source": [
    "data.head()"
   ]
  },
  {
   "cell_type": "markdown",
   "metadata": {},
   "source": [
    "How many circuit decisions, how many district?"
   ]
  },
  {
   "cell_type": "code",
   "execution_count": 6,
   "metadata": {},
   "outputs": [
    {
     "data": {
      "text/plain": [
       "district    75\n",
       "circuit     17\n",
       "Name: court_type, dtype: int64"
      ]
     },
     "execution_count": 6,
     "metadata": {},
     "output_type": "execute_result"
    }
   ],
   "source": [
    "data['court_type'].value_counts()"
   ]
  },
  {
   "cell_type": "markdown",
   "metadata": {},
   "source": [
    "How many dealt with arbitration?"
   ]
  },
  {
   "cell_type": "code",
   "execution_count": 7,
   "metadata": {},
   "outputs": [
    {
     "data": {
      "text/html": [
       "<div>\n",
       "<style scoped>\n",
       "    .dataframe tbody tr th:only-of-type {\n",
       "        vertical-align: middle;\n",
       "    }\n",
       "\n",
       "    .dataframe tbody tr th {\n",
       "        vertical-align: top;\n",
       "    }\n",
       "\n",
       "    .dataframe thead th {\n",
       "        text-align: right;\n",
       "    }\n",
       "</style>\n",
       "<table border=\"1\" class=\"dataframe\">\n",
       "  <thead>\n",
       "    <tr style=\"text-align: right;\">\n",
       "      <th></th>\n",
       "      <th></th>\n",
       "      <th>decision_id</th>\n",
       "    </tr>\n",
       "    <tr>\n",
       "      <th>court_type</th>\n",
       "      <th>legal_issue</th>\n",
       "      <th></th>\n",
       "    </tr>\n",
       "  </thead>\n",
       "  <tbody>\n",
       "    <tr>\n",
       "      <th rowspan=\"2\" valign=\"top\">circuit</th>\n",
       "      <th>arbitration</th>\n",
       "      <td>11</td>\n",
       "    </tr>\n",
       "    <tr>\n",
       "      <th>other</th>\n",
       "      <td>6</td>\n",
       "    </tr>\n",
       "    <tr>\n",
       "      <th rowspan=\"2\" valign=\"top\">district</th>\n",
       "      <th>arbitration</th>\n",
       "      <td>63</td>\n",
       "    </tr>\n",
       "    <tr>\n",
       "      <th>other</th>\n",
       "      <td>12</td>\n",
       "    </tr>\n",
       "  </tbody>\n",
       "</table>\n",
       "</div>"
      ],
      "text/plain": [
       "                        decision_id\n",
       "court_type legal_issue             \n",
       "circuit    arbitration           11\n",
       "           other                  6\n",
       "district   arbitration           63\n",
       "           other                 12"
      ]
     },
     "execution_count": 7,
     "metadata": {},
     "output_type": "execute_result"
    }
   ],
   "source": [
    "data.pivot_table(index=['court_type', 'legal_issue'],\n",
    "                 values='decision_id',\n",
    "                 aggfunc='count'\n",
    "                )"
   ]
  },
  {
   "cell_type": "markdown",
   "metadata": {},
   "source": [
    "How many dealt with arbitration *and* workplace issues?  \n",
    "Workplace issues include wage & hour, sexual harassment, worker classification, and discrimination"
   ]
  },
  {
   "cell_type": "code",
   "execution_count": 8,
   "metadata": {},
   "outputs": [],
   "source": [
    "workplace = data.loc[(data['case_type'] == 'wage_hour') |\n",
    "                     (data['case_type'] == 'sex_harass') |\n",
    "                     (data['case_type'] == 'classification') |\n",
    "                     (data['case_type'] == 'discrimination')]"
   ]
  },
  {
   "cell_type": "code",
   "execution_count": 9,
   "metadata": {},
   "outputs": [
    {
     "data": {
      "text/html": [
       "<div>\n",
       "<style scoped>\n",
       "    .dataframe tbody tr th:only-of-type {\n",
       "        vertical-align: middle;\n",
       "    }\n",
       "\n",
       "    .dataframe tbody tr th {\n",
       "        vertical-align: top;\n",
       "    }\n",
       "\n",
       "    .dataframe thead th {\n",
       "        text-align: right;\n",
       "    }\n",
       "</style>\n",
       "<table border=\"1\" class=\"dataframe\">\n",
       "  <thead>\n",
       "    <tr style=\"text-align: right;\">\n",
       "      <th></th>\n",
       "      <th></th>\n",
       "      <th>decision_id</th>\n",
       "    </tr>\n",
       "    <tr>\n",
       "      <th>court_type</th>\n",
       "      <th>legal_issue</th>\n",
       "      <th></th>\n",
       "    </tr>\n",
       "  </thead>\n",
       "  <tbody>\n",
       "    <tr>\n",
       "      <th>circuit</th>\n",
       "      <th>arbitration</th>\n",
       "      <td>10</td>\n",
       "    </tr>\n",
       "    <tr>\n",
       "      <th rowspan=\"2\" valign=\"top\">district</th>\n",
       "      <th>arbitration</th>\n",
       "      <td>49</td>\n",
       "    </tr>\n",
       "    <tr>\n",
       "      <th>other</th>\n",
       "      <td>5</td>\n",
       "    </tr>\n",
       "  </tbody>\n",
       "</table>\n",
       "</div>"
      ],
      "text/plain": [
       "                        decision_id\n",
       "court_type legal_issue             \n",
       "circuit    arbitration           10\n",
       "district   arbitration           49\n",
       "           other                  5"
      ]
     },
     "execution_count": 9,
     "metadata": {},
     "output_type": "execute_result"
    }
   ],
   "source": [
    "workplace.pivot_table(index=['court_type', 'legal_issue'],\n",
    "                      values='decision_id',\n",
    "                      aggfunc='count'\n",
    "                     )"
   ]
  },
  {
   "cell_type": "markdown",
   "metadata": {},
   "source": [
    "How many decisions went in favor of the defendant?"
   ]
  },
  {
   "cell_type": "code",
   "execution_count": 10,
   "metadata": {},
   "outputs": [
    {
     "data": {
      "text/html": [
       "<div>\n",
       "<style scoped>\n",
       "    .dataframe tbody tr th:only-of-type {\n",
       "        vertical-align: middle;\n",
       "    }\n",
       "\n",
       "    .dataframe tbody tr th {\n",
       "        vertical-align: top;\n",
       "    }\n",
       "\n",
       "    .dataframe thead th {\n",
       "        text-align: right;\n",
       "    }\n",
       "</style>\n",
       "<table border=\"1\" class=\"dataframe\">\n",
       "  <thead>\n",
       "    <tr style=\"text-align: right;\">\n",
       "      <th></th>\n",
       "      <th>case_count</th>\n",
       "      <th>pct</th>\n",
       "    </tr>\n",
       "  </thead>\n",
       "  <tbody>\n",
       "    <tr>\n",
       "      <th>def</th>\n",
       "      <td>58.0</td>\n",
       "      <td>63.043478</td>\n",
       "    </tr>\n",
       "    <tr>\n",
       "      <th>ptf</th>\n",
       "      <td>24.0</td>\n",
       "      <td>26.086957</td>\n",
       "    </tr>\n",
       "    <tr>\n",
       "      <th>mixed</th>\n",
       "      <td>10.0</td>\n",
       "      <td>10.869565</td>\n",
       "    </tr>\n",
       "    <tr>\n",
       "      <th>total</th>\n",
       "      <td>92.0</td>\n",
       "      <td>100.000000</td>\n",
       "    </tr>\n",
       "  </tbody>\n",
       "</table>\n",
       "</div>"
      ],
      "text/plain": [
       "       case_count         pct\n",
       "def          58.0   63.043478\n",
       "ptf          24.0   26.086957\n",
       "mixed        10.0   10.869565\n",
       "total        92.0  100.000000"
      ]
     },
     "execution_count": 10,
     "metadata": {},
     "output_type": "execute_result"
    }
   ],
   "source": [
    "favor = pd.DataFrame({'case_count': data['decision_favor'].value_counts(),\n",
    "                      'pct': data['decision_favor'].value_counts() / data['decision_favor'].value_counts().sum() * 100\n",
    "                     })\n",
    "\n",
    "favor.at['total', 'case_count'] = data['decision_favor'].value_counts().sum()\n",
    "favor.at['total', 'pct'] = favor['pct'].sum()\n",
    "\n",
    "favor"
   ]
  },
  {
   "cell_type": "code",
   "execution_count": null,
   "metadata": {},
   "outputs": [],
   "source": []
  }
 ],
 "metadata": {
  "kernelspec": {
   "display_name": "Python 3",
   "language": "python",
   "name": "python3"
  },
  "language_info": {
   "codemirror_mode": {
    "name": "ipython",
    "version": 3
   },
   "file_extension": ".py",
   "mimetype": "text/x-python",
   "name": "python",
   "nbconvert_exporter": "python",
   "pygments_lexer": "ipython3",
   "version": "3.6.8"
  }
 },
 "nbformat": 4,
 "nbformat_minor": 2
}
