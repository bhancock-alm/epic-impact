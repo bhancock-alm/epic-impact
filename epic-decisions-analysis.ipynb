{
 "cells": [
  {
   "cell_type": "markdown",
   "metadata": {},
   "source": [
    "# Analyzing the Impact of *Epic Systems Corp. v. Lewis*\n",
    "\n",
    "By [Ben Hancock](https://www.law.com/author/profile/Ben-Hancock/)\n",
    "\n",
    "This is part of a data journalism project by the *National Law Journal* to assess the impact of *Epic Systems Corp. v. Lewis*, a May 2018 decision by the U.S. Supreme Court that centered on the enforceability of mandatory workplace arbitration agreements. In collaboration with [Casetext](https://casetext.com/), we identified and categorized nearly 100 federal district and appellate decisions from 2018 that cited *Epic* in order to assess how the case is changing the law around arbitration. You can read more about our methodology in the [README file](https://github.com/bhancock-alm/epic-impact/blob/master/README.md).\n",
    "\n",
    "You are looking at a [Jupyter Notebook](https://jupyter.org/), a saved interactive data analysis and computing session that uses the Python programming language. Our goal in presenting this to our audience is to \"show our work\" and give greater transparency into the approach we took in reporting an issue with wide public interest and significance. Even if you're not a programmer, we invite you to follow along -- with the help of plain-language comments interspersed below -- and see the steps we took to arrive at the figures cited in our [final article](https://www.law.com/nationallawjournal/2019/02/28/epic-impact-how-a-major-scotus-decision-in-favor-of-arbitration-is-shaping-the-landscape-for-workplace-lawsuits). At bottom, we show you how we generated one of the main data visualizations presented in the story. If you're just interested in seeing the underlying data, [that's here too](https://github.com/bhancock-alm/epic-impact/blob/master/epic_data_full.csv).\n",
    "\n",
    "This is an experiment for our newsroom that aims to foster conversation with our audience in a new way. If you have questions, comments, or critiques, feel free to contact me at [bhancock@alm.com](mailto:bhancock@alm.com).\n",
    "\n",
    "---"
   ]
  },
  {
   "cell_type": "markdown",
   "metadata": {},
   "source": [
    "Import `pandas`, the [Python Data Analysis Library](https://pandas.pydata.org/), and a couple tools for data visualization"
   ]
  },
  {
   "cell_type": "code",
   "execution_count": 1,
   "metadata": {},
   "outputs": [],
   "source": [
    "import pandas as pd\n",
    "import matplotlib.pyplot as plt\n",
    "import seaborn as sns"
   ]
  },
  {
   "cell_type": "markdown",
   "metadata": {},
   "source": [
    "Import the data we collected on decisions citing *Epic*"
   ]
  },
  {
   "cell_type": "code",
   "execution_count": 2,
   "metadata": {},
   "outputs": [],
   "source": [
    "data = pd.read_csv('epic_data_full.csv', index_col='decision_id')"
   ]
  },
  {
   "cell_type": "markdown",
   "metadata": {},
   "source": [
    "Get a feel for the data set"
   ]
  },
  {
   "cell_type": "code",
   "execution_count": 3,
   "metadata": {},
   "outputs": [
    {
     "data": {
      "text/plain": [
       "(92, 14)"
      ]
     },
     "execution_count": 3,
     "metadata": {},
     "output_type": "execute_result"
    }
   ],
   "source": [
    "data.shape"
   ]
  },
  {
   "cell_type": "code",
   "execution_count": 4,
   "metadata": {},
   "outputs": [
    {
     "data": {
      "text/plain": [
       "Index(['case_name_short', 'case_name_long', 'jurisdiction_code',\n",
       "       'jurisdiction_long', 'court_type', 'decide_date', 'casetext_url',\n",
       "       'class_action', 'case_type', 'legal_issue', 'cite_context',\n",
       "       'cite_excerpt', 'outcome_code', 'decision_favor'],\n",
       "      dtype='object')"
      ]
     },
     "execution_count": 4,
     "metadata": {},
     "output_type": "execute_result"
    }
   ],
   "source": [
    "data.columns"
   ]
  },
  {
   "cell_type": "code",
   "execution_count": 5,
   "metadata": {},
   "outputs": [
    {
     "data": {
      "text/html": [
       "<div>\n",
       "<style scoped>\n",
       "    .dataframe tbody tr th:only-of-type {\n",
       "        vertical-align: middle;\n",
       "    }\n",
       "\n",
       "    .dataframe tbody tr th {\n",
       "        vertical-align: top;\n",
       "    }\n",
       "\n",
       "    .dataframe thead th {\n",
       "        text-align: right;\n",
       "    }\n",
       "</style>\n",
       "<table border=\"1\" class=\"dataframe\">\n",
       "  <thead>\n",
       "    <tr style=\"text-align: right;\">\n",
       "      <th></th>\n",
       "      <th>case_name_short</th>\n",
       "      <th>case_name_long</th>\n",
       "      <th>jurisdiction_code</th>\n",
       "      <th>jurisdiction_long</th>\n",
       "      <th>court_type</th>\n",
       "      <th>decide_date</th>\n",
       "      <th>casetext_url</th>\n",
       "      <th>class_action</th>\n",
       "      <th>case_type</th>\n",
       "      <th>legal_issue</th>\n",
       "      <th>cite_context</th>\n",
       "      <th>cite_excerpt</th>\n",
       "      <th>outcome_code</th>\n",
       "      <th>decision_favor</th>\n",
       "    </tr>\n",
       "    <tr>\n",
       "      <th>decision_id</th>\n",
       "      <th></th>\n",
       "      <th></th>\n",
       "      <th></th>\n",
       "      <th></th>\n",
       "      <th></th>\n",
       "      <th></th>\n",
       "      <th></th>\n",
       "      <th></th>\n",
       "      <th></th>\n",
       "      <th></th>\n",
       "      <th></th>\n",
       "      <th></th>\n",
       "      <th></th>\n",
       "      <th></th>\n",
       "    </tr>\n",
       "  </thead>\n",
       "  <tbody>\n",
       "    <tr>\n",
       "      <th>1</th>\n",
       "      <td>Goplin v. Weconnect, Inc.</td>\n",
       "      <td>BROOKS GOPLIN, Plaintiff-Appellee, v. WECONNEC...</td>\n",
       "      <td>7th Cir.</td>\n",
       "      <td>United States Court of Appeals For the Seventh...</td>\n",
       "      <td>circuit</td>\n",
       "      <td>2018-06-20</td>\n",
       "      <td>https://casetext.com/case/goplin-v-weconnect-i...</td>\n",
       "      <td>True</td>\n",
       "      <td>wage_hour</td>\n",
       "      <td>arbitration</td>\n",
       "      <td>in-passing</td>\n",
       "      <td>Goplin also argued, and the district court agr...</td>\n",
       "      <td>no_arb</td>\n",
       "      <td>ptf</td>\n",
       "    </tr>\n",
       "    <tr>\n",
       "      <th>2</th>\n",
       "      <td>Riederer v. United Healthcare Servs., Inc.</td>\n",
       "      <td>SANDRA RIEDERER, Plain tiff-Appellee, v. UNITE...</td>\n",
       "      <td>7th Cir.</td>\n",
       "      <td>United States Court of Appeals For the Seventh...</td>\n",
       "      <td>circuit</td>\n",
       "      <td>2018-07-23</td>\n",
       "      <td>https://casetext.com/case/riederer-v-united-he...</td>\n",
       "      <td>True</td>\n",
       "      <td>wage_hour</td>\n",
       "      <td>arbitration</td>\n",
       "      <td>supporting</td>\n",
       "      <td>The decision of the district court is vacated,...</td>\n",
       "      <td>other</td>\n",
       "      <td>def</td>\n",
       "    </tr>\n",
       "    <tr>\n",
       "      <th>3</th>\n",
       "      <td>Hernandez v. Acosta Tractors Inc.</td>\n",
       "      <td>JULIO HERNANDEZ HERNANDEZ, and all others simi...</td>\n",
       "      <td>11th Cir.</td>\n",
       "      <td>UNITED STATES COURT OF APPEALS FOR THE ELEVENT...</td>\n",
       "      <td>circuit</td>\n",
       "      <td>2018-08-07</td>\n",
       "      <td>https://casetext.com/case/hernandez-v-acosta-t...</td>\n",
       "      <td>False</td>\n",
       "      <td>wage_hour</td>\n",
       "      <td>arbitration</td>\n",
       "      <td>in-passing</td>\n",
       "      <td>We find no basis in the FAA, the caselaw, or a...</td>\n",
       "      <td>other</td>\n",
       "      <td>def</td>\n",
       "    </tr>\n",
       "    <tr>\n",
       "      <th>4</th>\n",
       "      <td>Gaffers v. Kelly Servs., Inc.</td>\n",
       "      <td>JONATHAN GAFFERS, Plaintiff-Appellee, v. KELLY...</td>\n",
       "      <td>6th Cir.</td>\n",
       "      <td>UNITED STATES COURT OF APPEALS FOR THE SIXTH C...</td>\n",
       "      <td>circuit</td>\n",
       "      <td>2018-08-14</td>\n",
       "      <td>https://casetext.com/case/gaffers-v-kelly-serv...</td>\n",
       "      <td>True</td>\n",
       "      <td>wage_hour</td>\n",
       "      <td>arbitration</td>\n",
       "      <td>supporting</td>\n",
       "      <td>The Supreme Court recently held that the Natio...</td>\n",
       "      <td>arb_compel</td>\n",
       "      <td>def</td>\n",
       "    </tr>\n",
       "    <tr>\n",
       "      <th>5</th>\n",
       "      <td>Dish Network L.L.C. v. Ray</td>\n",
       "      <td>DISH NETWORK L.L.C. and ECHOSPHERE, L.L.C. Pla...</td>\n",
       "      <td>10th Cir.</td>\n",
       "      <td>UNITED STATES COURT OF APPEALS FOR THE TENTH C...</td>\n",
       "      <td>circuit</td>\n",
       "      <td>2018-08-20</td>\n",
       "      <td>https://casetext.com/case/dish-network-v-ray-1</td>\n",
       "      <td>True</td>\n",
       "      <td>wage_hour</td>\n",
       "      <td>arbitration</td>\n",
       "      <td>supporting</td>\n",
       "      <td>By contrast, whether a claimant can proceed on...</td>\n",
       "      <td>other</td>\n",
       "      <td>ptf</td>\n",
       "    </tr>\n",
       "  </tbody>\n",
       "</table>\n",
       "</div>"
      ],
      "text/plain": [
       "                                        case_name_short  \\\n",
       "decision_id                                               \n",
       "1                             Goplin v. Weconnect, Inc.   \n",
       "2            Riederer v. United Healthcare Servs., Inc.   \n",
       "3                     Hernandez v. Acosta Tractors Inc.   \n",
       "4                         Gaffers v. Kelly Servs., Inc.   \n",
       "5                            Dish Network L.L.C. v. Ray   \n",
       "\n",
       "                                                case_name_long  \\\n",
       "decision_id                                                      \n",
       "1            BROOKS GOPLIN, Plaintiff-Appellee, v. WECONNEC...   \n",
       "2            SANDRA RIEDERER, Plain tiff-Appellee, v. UNITE...   \n",
       "3            JULIO HERNANDEZ HERNANDEZ, and all others simi...   \n",
       "4            JONATHAN GAFFERS, Plaintiff-Appellee, v. KELLY...   \n",
       "5            DISH NETWORK L.L.C. and ECHOSPHERE, L.L.C. Pla...   \n",
       "\n",
       "            jurisdiction_code  \\\n",
       "decision_id                     \n",
       "1                    7th Cir.   \n",
       "2                    7th Cir.   \n",
       "3                   11th Cir.   \n",
       "4                    6th Cir.   \n",
       "5                   10th Cir.   \n",
       "\n",
       "                                             jurisdiction_long court_type  \\\n",
       "decision_id                                                                 \n",
       "1            United States Court of Appeals For the Seventh...    circuit   \n",
       "2            United States Court of Appeals For the Seventh...    circuit   \n",
       "3            UNITED STATES COURT OF APPEALS FOR THE ELEVENT...    circuit   \n",
       "4            UNITED STATES COURT OF APPEALS FOR THE SIXTH C...    circuit   \n",
       "5            UNITED STATES COURT OF APPEALS FOR THE TENTH C...    circuit   \n",
       "\n",
       "            decide_date                                       casetext_url  \\\n",
       "decision_id                                                                  \n",
       "1            2018-06-20  https://casetext.com/case/goplin-v-weconnect-i...   \n",
       "2            2018-07-23  https://casetext.com/case/riederer-v-united-he...   \n",
       "3            2018-08-07  https://casetext.com/case/hernandez-v-acosta-t...   \n",
       "4            2018-08-14  https://casetext.com/case/gaffers-v-kelly-serv...   \n",
       "5            2018-08-20     https://casetext.com/case/dish-network-v-ray-1   \n",
       "\n",
       "             class_action  case_type  legal_issue cite_context  \\\n",
       "decision_id                                                      \n",
       "1                    True  wage_hour  arbitration   in-passing   \n",
       "2                    True  wage_hour  arbitration   supporting   \n",
       "3                   False  wage_hour  arbitration   in-passing   \n",
       "4                    True  wage_hour  arbitration   supporting   \n",
       "5                    True  wage_hour  arbitration   supporting   \n",
       "\n",
       "                                                  cite_excerpt outcome_code  \\\n",
       "decision_id                                                                   \n",
       "1            Goplin also argued, and the district court agr...       no_arb   \n",
       "2            The decision of the district court is vacated,...        other   \n",
       "3            We find no basis in the FAA, the caselaw, or a...        other   \n",
       "4            The Supreme Court recently held that the Natio...   arb_compel   \n",
       "5            By contrast, whether a claimant can proceed on...        other   \n",
       "\n",
       "            decision_favor  \n",
       "decision_id                 \n",
       "1                      ptf  \n",
       "2                      def  \n",
       "3                      def  \n",
       "4                      def  \n",
       "5                      ptf  "
      ]
     },
     "execution_count": 5,
     "metadata": {},
     "output_type": "execute_result"
    }
   ],
   "source": [
    "data.head()"
   ]
  },
  {
   "cell_type": "markdown",
   "metadata": {},
   "source": [
    "How many circuit decisions, how many district?"
   ]
  },
  {
   "cell_type": "code",
   "execution_count": 6,
   "metadata": {},
   "outputs": [
    {
     "data": {
      "text/plain": [
       "district    75\n",
       "circuit     17\n",
       "Name: court_type, dtype: int64"
      ]
     },
     "execution_count": 6,
     "metadata": {},
     "output_type": "execute_result"
    }
   ],
   "source": [
    "data['court_type'].value_counts()"
   ]
  },
  {
   "cell_type": "markdown",
   "metadata": {},
   "source": [
    "What were the outcomes for all cases?"
   ]
  },
  {
   "cell_type": "code",
   "execution_count": 7,
   "metadata": {},
   "outputs": [
    {
     "data": {
      "text/plain": [
       "arb_compel    42\n",
       "other         33\n",
       "no_arb        13\n",
       "arb_revive     4\n",
       "Name: outcome_code, dtype: int64"
      ]
     },
     "execution_count": 7,
     "metadata": {},
     "output_type": "execute_result"
    }
   ],
   "source": [
    "data['outcome_code'].value_counts()"
   ]
  },
  {
   "cell_type": "markdown",
   "metadata": {},
   "source": [
    "How many cases centered on arbitration?"
   ]
  },
  {
   "cell_type": "code",
   "execution_count": 8,
   "metadata": {},
   "outputs": [
    {
     "data": {
      "text/html": [
       "<div>\n",
       "<style scoped>\n",
       "    .dataframe tbody tr th:only-of-type {\n",
       "        vertical-align: middle;\n",
       "    }\n",
       "\n",
       "    .dataframe tbody tr th {\n",
       "        vertical-align: top;\n",
       "    }\n",
       "\n",
       "    .dataframe thead th {\n",
       "        text-align: right;\n",
       "    }\n",
       "</style>\n",
       "<table border=\"1\" class=\"dataframe\">\n",
       "  <thead>\n",
       "    <tr style=\"text-align: right;\">\n",
       "      <th></th>\n",
       "      <th></th>\n",
       "      <th>case_name_short</th>\n",
       "    </tr>\n",
       "    <tr>\n",
       "      <th>court_type</th>\n",
       "      <th>legal_issue</th>\n",
       "      <th></th>\n",
       "    </tr>\n",
       "  </thead>\n",
       "  <tbody>\n",
       "    <tr>\n",
       "      <th rowspan=\"2\" valign=\"top\">circuit</th>\n",
       "      <th>arbitration</th>\n",
       "      <td>11</td>\n",
       "    </tr>\n",
       "    <tr>\n",
       "      <th>other</th>\n",
       "      <td>6</td>\n",
       "    </tr>\n",
       "    <tr>\n",
       "      <th rowspan=\"2\" valign=\"top\">district</th>\n",
       "      <th>arbitration</th>\n",
       "      <td>63</td>\n",
       "    </tr>\n",
       "    <tr>\n",
       "      <th>other</th>\n",
       "      <td>12</td>\n",
       "    </tr>\n",
       "  </tbody>\n",
       "</table>\n",
       "</div>"
      ],
      "text/plain": [
       "                        case_name_short\n",
       "court_type legal_issue                 \n",
       "circuit    arbitration               11\n",
       "           other                      6\n",
       "district   arbitration               63\n",
       "           other                     12"
      ]
     },
     "execution_count": 8,
     "metadata": {},
     "output_type": "execute_result"
    }
   ],
   "source": [
    "data.groupby(['court_type', 'legal_issue'])[['case_name_short']].count()"
   ]
  },
  {
   "cell_type": "markdown",
   "metadata": {},
   "source": [
    "How many centered on arbitration *and* workplace issues?  \n",
    "Workplace issues include wage & hour, sexual harassment, worker classification, and discrimination"
   ]
  },
  {
   "cell_type": "code",
   "execution_count": 9,
   "metadata": {},
   "outputs": [],
   "source": [
    "workplace = data.loc[(data['case_type'] == 'wage_hour') |\n",
    "                     (data['case_type'] == 'sex_harass') |\n",
    "                     (data['case_type'] == 'classification') |\n",
    "                     (data['case_type'] == 'discrimination')]"
   ]
  },
  {
   "cell_type": "code",
   "execution_count": 10,
   "metadata": {},
   "outputs": [
    {
     "data": {
      "text/html": [
       "<div>\n",
       "<style scoped>\n",
       "    .dataframe tbody tr th:only-of-type {\n",
       "        vertical-align: middle;\n",
       "    }\n",
       "\n",
       "    .dataframe tbody tr th {\n",
       "        vertical-align: top;\n",
       "    }\n",
       "\n",
       "    .dataframe thead th {\n",
       "        text-align: right;\n",
       "    }\n",
       "</style>\n",
       "<table border=\"1\" class=\"dataframe\">\n",
       "  <thead>\n",
       "    <tr style=\"text-align: right;\">\n",
       "      <th></th>\n",
       "      <th></th>\n",
       "      <th>case_name_short</th>\n",
       "    </tr>\n",
       "    <tr>\n",
       "      <th>court_type</th>\n",
       "      <th>legal_issue</th>\n",
       "      <th></th>\n",
       "    </tr>\n",
       "  </thead>\n",
       "  <tbody>\n",
       "    <tr>\n",
       "      <th>circuit</th>\n",
       "      <th>arbitration</th>\n",
       "      <td>10</td>\n",
       "    </tr>\n",
       "    <tr>\n",
       "      <th rowspan=\"2\" valign=\"top\">district</th>\n",
       "      <th>arbitration</th>\n",
       "      <td>49</td>\n",
       "    </tr>\n",
       "    <tr>\n",
       "      <th>other</th>\n",
       "      <td>5</td>\n",
       "    </tr>\n",
       "  </tbody>\n",
       "</table>\n",
       "</div>"
      ],
      "text/plain": [
       "                        case_name_short\n",
       "court_type legal_issue                 \n",
       "circuit    arbitration               10\n",
       "district   arbitration               49\n",
       "           other                      5"
      ]
     },
     "execution_count": 10,
     "metadata": {},
     "output_type": "execute_result"
    }
   ],
   "source": [
    "workplace.groupby(['court_type', 'legal_issue'])[['case_name_short']].count()"
   ]
  },
  {
   "cell_type": "markdown",
   "metadata": {},
   "source": [
    "How many decisions went in favor of the defendant?"
   ]
  },
  {
   "cell_type": "code",
   "execution_count": 11,
   "metadata": {},
   "outputs": [
    {
     "data": {
      "text/html": [
       "<div>\n",
       "<style scoped>\n",
       "    .dataframe tbody tr th:only-of-type {\n",
       "        vertical-align: middle;\n",
       "    }\n",
       "\n",
       "    .dataframe tbody tr th {\n",
       "        vertical-align: top;\n",
       "    }\n",
       "\n",
       "    .dataframe thead th {\n",
       "        text-align: right;\n",
       "    }\n",
       "</style>\n",
       "<table border=\"1\" class=\"dataframe\">\n",
       "  <thead>\n",
       "    <tr style=\"text-align: right;\">\n",
       "      <th></th>\n",
       "      <th>case_name_short</th>\n",
       "    </tr>\n",
       "    <tr>\n",
       "      <th>decision_favor</th>\n",
       "      <th></th>\n",
       "    </tr>\n",
       "  </thead>\n",
       "  <tbody>\n",
       "    <tr>\n",
       "      <th>def</th>\n",
       "      <td>58</td>\n",
       "    </tr>\n",
       "    <tr>\n",
       "      <th>mixed</th>\n",
       "      <td>10</td>\n",
       "    </tr>\n",
       "    <tr>\n",
       "      <th>ptf</th>\n",
       "      <td>24</td>\n",
       "    </tr>\n",
       "  </tbody>\n",
       "</table>\n",
       "</div>"
      ],
      "text/plain": [
       "                case_name_short\n",
       "decision_favor                 \n",
       "def                          58\n",
       "mixed                        10\n",
       "ptf                          24"
      ]
     },
     "execution_count": 11,
     "metadata": {},
     "output_type": "execute_result"
    }
   ],
   "source": [
    "data.groupby('decision_favor')[['case_name_short']].count()"
   ]
  },
  {
   "cell_type": "markdown",
   "metadata": {},
   "source": [
    "What was the percentage breakdown?"
   ]
  },
  {
   "cell_type": "code",
   "execution_count": 12,
   "metadata": {
    "scrolled": true
   },
   "outputs": [
    {
     "data": {
      "text/html": [
       "<div>\n",
       "<style scoped>\n",
       "    .dataframe tbody tr th:only-of-type {\n",
       "        vertical-align: middle;\n",
       "    }\n",
       "\n",
       "    .dataframe tbody tr th {\n",
       "        vertical-align: top;\n",
       "    }\n",
       "\n",
       "    .dataframe thead th {\n",
       "        text-align: right;\n",
       "    }\n",
       "</style>\n",
       "<table border=\"1\" class=\"dataframe\">\n",
       "  <thead>\n",
       "    <tr style=\"text-align: right;\">\n",
       "      <th></th>\n",
       "      <th>case_name_short</th>\n",
       "    </tr>\n",
       "    <tr>\n",
       "      <th>decision_favor</th>\n",
       "      <th></th>\n",
       "    </tr>\n",
       "  </thead>\n",
       "  <tbody>\n",
       "    <tr>\n",
       "      <th>def</th>\n",
       "      <td>63.043478</td>\n",
       "    </tr>\n",
       "    <tr>\n",
       "      <th>mixed</th>\n",
       "      <td>10.869565</td>\n",
       "    </tr>\n",
       "    <tr>\n",
       "      <th>ptf</th>\n",
       "      <td>26.086957</td>\n",
       "    </tr>\n",
       "  </tbody>\n",
       "</table>\n",
       "</div>"
      ],
      "text/plain": [
       "                case_name_short\n",
       "decision_favor                 \n",
       "def                   63.043478\n",
       "mixed                 10.869565\n",
       "ptf                   26.086957"
      ]
     },
     "execution_count": 12,
     "metadata": {},
     "output_type": "execute_result"
    }
   ],
   "source": [
    "favor = data.groupby('decision_favor')[['case_name_short']].count()\n",
    "favor.apply(lambda x:(x / x.sum()) * 100)"
   ]
  },
  {
   "cell_type": "markdown",
   "metadata": {},
   "source": [
    "How many decisions were proposed class or collection actions, by court?"
   ]
  },
  {
   "cell_type": "code",
   "execution_count": 13,
   "metadata": {},
   "outputs": [
    {
     "data": {
      "text/html": [
       "<div>\n",
       "<style scoped>\n",
       "    .dataframe tbody tr th:only-of-type {\n",
       "        vertical-align: middle;\n",
       "    }\n",
       "\n",
       "    .dataframe tbody tr th {\n",
       "        vertical-align: top;\n",
       "    }\n",
       "\n",
       "    .dataframe thead th {\n",
       "        text-align: right;\n",
       "    }\n",
       "</style>\n",
       "<table border=\"1\" class=\"dataframe\">\n",
       "  <thead>\n",
       "    <tr style=\"text-align: right;\">\n",
       "      <th></th>\n",
       "      <th></th>\n",
       "      <th>case_name_short</th>\n",
       "    </tr>\n",
       "    <tr>\n",
       "      <th>court_type</th>\n",
       "      <th>class_action</th>\n",
       "      <th></th>\n",
       "    </tr>\n",
       "  </thead>\n",
       "  <tbody>\n",
       "    <tr>\n",
       "      <th rowspan=\"2\" valign=\"top\">circuit</th>\n",
       "      <th>False</th>\n",
       "      <td>8</td>\n",
       "    </tr>\n",
       "    <tr>\n",
       "      <th>True</th>\n",
       "      <td>9</td>\n",
       "    </tr>\n",
       "    <tr>\n",
       "      <th rowspan=\"2\" valign=\"top\">district</th>\n",
       "      <th>False</th>\n",
       "      <td>22</td>\n",
       "    </tr>\n",
       "    <tr>\n",
       "      <th>True</th>\n",
       "      <td>53</td>\n",
       "    </tr>\n",
       "  </tbody>\n",
       "</table>\n",
       "</div>"
      ],
      "text/plain": [
       "                         case_name_short\n",
       "court_type class_action                 \n",
       "circuit    False                       8\n",
       "           True                        9\n",
       "district   False                      22\n",
       "           True                       53"
      ]
     },
     "execution_count": 13,
     "metadata": {},
     "output_type": "execute_result"
    }
   ],
   "source": [
    "data.groupby(['court_type', 'class_action'])[['case_name_short']].count()"
   ]
  },
  {
   "cell_type": "markdown",
   "metadata": {},
   "source": [
    "What's the percentage breakdown?"
   ]
  },
  {
   "cell_type": "code",
   "execution_count": 14,
   "metadata": {},
   "outputs": [
    {
     "data": {
      "text/html": [
       "<div>\n",
       "<style scoped>\n",
       "    .dataframe tbody tr th:only-of-type {\n",
       "        vertical-align: middle;\n",
       "    }\n",
       "\n",
       "    .dataframe tbody tr th {\n",
       "        vertical-align: top;\n",
       "    }\n",
       "\n",
       "    .dataframe thead th {\n",
       "        text-align: right;\n",
       "    }\n",
       "</style>\n",
       "<table border=\"1\" class=\"dataframe\">\n",
       "  <thead>\n",
       "    <tr style=\"text-align: right;\">\n",
       "      <th></th>\n",
       "      <th></th>\n",
       "      <th>case_name_short</th>\n",
       "    </tr>\n",
       "    <tr>\n",
       "      <th>court_type</th>\n",
       "      <th>class_action</th>\n",
       "      <th></th>\n",
       "    </tr>\n",
       "  </thead>\n",
       "  <tbody>\n",
       "    <tr>\n",
       "      <th rowspan=\"2\" valign=\"top\">circuit</th>\n",
       "      <th>False</th>\n",
       "      <td>47.058824</td>\n",
       "    </tr>\n",
       "    <tr>\n",
       "      <th>True</th>\n",
       "      <td>52.941176</td>\n",
       "    </tr>\n",
       "    <tr>\n",
       "      <th rowspan=\"2\" valign=\"top\">district</th>\n",
       "      <th>False</th>\n",
       "      <td>29.333333</td>\n",
       "    </tr>\n",
       "    <tr>\n",
       "      <th>True</th>\n",
       "      <td>70.666667</td>\n",
       "    </tr>\n",
       "  </tbody>\n",
       "</table>\n",
       "</div>"
      ],
      "text/plain": [
       "                         case_name_short\n",
       "court_type class_action                 \n",
       "circuit    False               47.058824\n",
       "           True                52.941176\n",
       "district   False               29.333333\n",
       "           True                70.666667"
      ]
     },
     "execution_count": 14,
     "metadata": {},
     "output_type": "execute_result"
    }
   ],
   "source": [
    "class_acts = data.groupby(['court_type', 'class_action'])[['case_name_short']].count()\n",
    "class_acts.groupby('court_type').apply(lambda x: (x / x.sum()) * 100)"
   ]
  },
  {
   "cell_type": "markdown",
   "metadata": {},
   "source": [
    "How many of class actions were compelled to arbitration, regardless of court type?"
   ]
  },
  {
   "cell_type": "code",
   "execution_count": 15,
   "metadata": {},
   "outputs": [
    {
     "data": {
      "text/html": [
       "<div>\n",
       "<style scoped>\n",
       "    .dataframe tbody tr th:only-of-type {\n",
       "        vertical-align: middle;\n",
       "    }\n",
       "\n",
       "    .dataframe tbody tr th {\n",
       "        vertical-align: top;\n",
       "    }\n",
       "\n",
       "    .dataframe thead th {\n",
       "        text-align: right;\n",
       "    }\n",
       "</style>\n",
       "<table border=\"1\" class=\"dataframe\">\n",
       "  <thead>\n",
       "    <tr style=\"text-align: right;\">\n",
       "      <th></th>\n",
       "      <th>case_name_short</th>\n",
       "    </tr>\n",
       "    <tr>\n",
       "      <th>outcome_code</th>\n",
       "      <th></th>\n",
       "    </tr>\n",
       "  </thead>\n",
       "  <tbody>\n",
       "    <tr>\n",
       "      <th>arb_compel</th>\n",
       "      <td>33</td>\n",
       "    </tr>\n",
       "    <tr>\n",
       "      <th>arb_revive</th>\n",
       "      <td>4</td>\n",
       "    </tr>\n",
       "    <tr>\n",
       "      <th>no_arb</th>\n",
       "      <td>9</td>\n",
       "    </tr>\n",
       "    <tr>\n",
       "      <th>other</th>\n",
       "      <td>16</td>\n",
       "    </tr>\n",
       "  </tbody>\n",
       "</table>\n",
       "</div>"
      ],
      "text/plain": [
       "              case_name_short\n",
       "outcome_code                 \n",
       "arb_compel                 33\n",
       "arb_revive                  4\n",
       "no_arb                      9\n",
       "other                      16"
      ]
     },
     "execution_count": 15,
     "metadata": {},
     "output_type": "execute_result"
    }
   ],
   "source": [
    "data.loc[data['class_action'] == True].groupby('outcome_code')[['case_name_short']].count()"
   ]
  },
  {
   "cell_type": "markdown",
   "metadata": {},
   "source": [
    "What's the percentage breakdown for class action outcomes, regardless of court type?"
   ]
  },
  {
   "cell_type": "code",
   "execution_count": 16,
   "metadata": {},
   "outputs": [
    {
     "data": {
      "text/html": [
       "<div>\n",
       "<style scoped>\n",
       "    .dataframe tbody tr th:only-of-type {\n",
       "        vertical-align: middle;\n",
       "    }\n",
       "\n",
       "    .dataframe tbody tr th {\n",
       "        vertical-align: top;\n",
       "    }\n",
       "\n",
       "    .dataframe thead th {\n",
       "        text-align: right;\n",
       "    }\n",
       "</style>\n",
       "<table border=\"1\" class=\"dataframe\">\n",
       "  <thead>\n",
       "    <tr style=\"text-align: right;\">\n",
       "      <th></th>\n",
       "      <th>case_name_short</th>\n",
       "    </tr>\n",
       "    <tr>\n",
       "      <th>outcome_code</th>\n",
       "      <th></th>\n",
       "    </tr>\n",
       "  </thead>\n",
       "  <tbody>\n",
       "    <tr>\n",
       "      <th>arb_compel</th>\n",
       "      <td>53.225806</td>\n",
       "    </tr>\n",
       "    <tr>\n",
       "      <th>arb_revive</th>\n",
       "      <td>6.451613</td>\n",
       "    </tr>\n",
       "    <tr>\n",
       "      <th>no_arb</th>\n",
       "      <td>14.516129</td>\n",
       "    </tr>\n",
       "    <tr>\n",
       "      <th>other</th>\n",
       "      <td>25.806452</td>\n",
       "    </tr>\n",
       "  </tbody>\n",
       "</table>\n",
       "</div>"
      ],
      "text/plain": [
       "              case_name_short\n",
       "outcome_code                 \n",
       "arb_compel          53.225806\n",
       "arb_revive           6.451613\n",
       "no_arb              14.516129\n",
       "other               25.806452"
      ]
     },
     "execution_count": 16,
     "metadata": {},
     "output_type": "execute_result"
    }
   ],
   "source": [
    "class_outcomes = data.loc[data['class_action'] == True].groupby('outcome_code')[['case_name_short']].count()\n",
    "class_outcomes.apply(lambda x: (x / x.sum()) * 100)"
   ]
  },
  {
   "cell_type": "markdown",
   "metadata": {},
   "source": [
    "What was the breakdown of the different case types, for both court types?"
   ]
  },
  {
   "cell_type": "code",
   "execution_count": 17,
   "metadata": {},
   "outputs": [
    {
     "data": {
      "text/html": [
       "<div>\n",
       "<style scoped>\n",
       "    .dataframe tbody tr th:only-of-type {\n",
       "        vertical-align: middle;\n",
       "    }\n",
       "\n",
       "    .dataframe tbody tr th {\n",
       "        vertical-align: top;\n",
       "    }\n",
       "\n",
       "    .dataframe thead th {\n",
       "        text-align: right;\n",
       "    }\n",
       "</style>\n",
       "<table border=\"1\" class=\"dataframe\">\n",
       "  <thead>\n",
       "    <tr style=\"text-align: right;\">\n",
       "      <th></th>\n",
       "      <th></th>\n",
       "      <th>case_name_short</th>\n",
       "    </tr>\n",
       "    <tr>\n",
       "      <th>court_type</th>\n",
       "      <th>case_type</th>\n",
       "      <th></th>\n",
       "    </tr>\n",
       "  </thead>\n",
       "  <tbody>\n",
       "    <tr>\n",
       "      <th rowspan=\"7\" valign=\"top\">circuit</th>\n",
       "      <th>classification</th>\n",
       "      <td>2</td>\n",
       "    </tr>\n",
       "    <tr>\n",
       "      <th>criminal</th>\n",
       "      <td>2</td>\n",
       "    </tr>\n",
       "    <tr>\n",
       "      <th>environment</th>\n",
       "      <td>2</td>\n",
       "    </tr>\n",
       "    <tr>\n",
       "      <th>immigration</th>\n",
       "      <td>1</td>\n",
       "    </tr>\n",
       "    <tr>\n",
       "      <th>other</th>\n",
       "      <td>1</td>\n",
       "    </tr>\n",
       "    <tr>\n",
       "      <th>regulatory</th>\n",
       "      <td>1</td>\n",
       "    </tr>\n",
       "    <tr>\n",
       "      <th>wage_hour</th>\n",
       "      <td>8</td>\n",
       "    </tr>\n",
       "    <tr>\n",
       "      <th rowspan=\"14\" valign=\"top\">district</th>\n",
       "      <th>FCRA</th>\n",
       "      <td>3</td>\n",
       "    </tr>\n",
       "    <tr>\n",
       "      <th>TCPA</th>\n",
       "      <td>1</td>\n",
       "    </tr>\n",
       "    <tr>\n",
       "      <th>bankruptcy</th>\n",
       "      <td>5</td>\n",
       "    </tr>\n",
       "    <tr>\n",
       "      <th>classification</th>\n",
       "      <td>6</td>\n",
       "    </tr>\n",
       "    <tr>\n",
       "      <th>contract</th>\n",
       "      <td>2</td>\n",
       "    </tr>\n",
       "    <tr>\n",
       "      <th>discrimination</th>\n",
       "      <td>8</td>\n",
       "    </tr>\n",
       "    <tr>\n",
       "      <th>environment</th>\n",
       "      <td>1</td>\n",
       "    </tr>\n",
       "    <tr>\n",
       "      <th>fraud</th>\n",
       "      <td>1</td>\n",
       "    </tr>\n",
       "    <tr>\n",
       "      <th>immigration</th>\n",
       "      <td>1</td>\n",
       "    </tr>\n",
       "    <tr>\n",
       "      <th>other</th>\n",
       "      <td>3</td>\n",
       "    </tr>\n",
       "    <tr>\n",
       "      <th>regulatory</th>\n",
       "      <td>2</td>\n",
       "    </tr>\n",
       "    <tr>\n",
       "      <th>securities</th>\n",
       "      <td>2</td>\n",
       "    </tr>\n",
       "    <tr>\n",
       "      <th>sex_harass</th>\n",
       "      <td>2</td>\n",
       "    </tr>\n",
       "    <tr>\n",
       "      <th>wage_hour</th>\n",
       "      <td>38</td>\n",
       "    </tr>\n",
       "  </tbody>\n",
       "</table>\n",
       "</div>"
      ],
      "text/plain": [
       "                           case_name_short\n",
       "court_type case_type                      \n",
       "circuit    classification                2\n",
       "           criminal                      2\n",
       "           environment                   2\n",
       "           immigration                   1\n",
       "           other                         1\n",
       "           regulatory                    1\n",
       "           wage_hour                     8\n",
       "district   FCRA                          3\n",
       "           TCPA                          1\n",
       "           bankruptcy                    5\n",
       "           classification                6\n",
       "           contract                      2\n",
       "           discrimination                8\n",
       "           environment                   1\n",
       "           fraud                         1\n",
       "           immigration                   1\n",
       "           other                         3\n",
       "           regulatory                    2\n",
       "           securities                    2\n",
       "           sex_harass                    2\n",
       "           wage_hour                    38"
      ]
     },
     "execution_count": 17,
     "metadata": {},
     "output_type": "execute_result"
    }
   ],
   "source": [
    "data.groupby(['court_type','case_type'])[['case_name_short']].count()"
   ]
  },
  {
   "cell_type": "markdown",
   "metadata": {},
   "source": [
    "And the percentage breakdown?"
   ]
  },
  {
   "cell_type": "code",
   "execution_count": 18,
   "metadata": {},
   "outputs": [
    {
     "data": {
      "text/html": [
       "<div>\n",
       "<style scoped>\n",
       "    .dataframe tbody tr th:only-of-type {\n",
       "        vertical-align: middle;\n",
       "    }\n",
       "\n",
       "    .dataframe tbody tr th {\n",
       "        vertical-align: top;\n",
       "    }\n",
       "\n",
       "    .dataframe thead th {\n",
       "        text-align: right;\n",
       "    }\n",
       "</style>\n",
       "<table border=\"1\" class=\"dataframe\">\n",
       "  <thead>\n",
       "    <tr style=\"text-align: right;\">\n",
       "      <th></th>\n",
       "      <th></th>\n",
       "      <th>case_name_short</th>\n",
       "    </tr>\n",
       "    <tr>\n",
       "      <th>court_type</th>\n",
       "      <th>case_type</th>\n",
       "      <th></th>\n",
       "    </tr>\n",
       "  </thead>\n",
       "  <tbody>\n",
       "    <tr>\n",
       "      <th rowspan=\"7\" valign=\"top\">circuit</th>\n",
       "      <th>classification</th>\n",
       "      <td>11.764706</td>\n",
       "    </tr>\n",
       "    <tr>\n",
       "      <th>criminal</th>\n",
       "      <td>11.764706</td>\n",
       "    </tr>\n",
       "    <tr>\n",
       "      <th>environment</th>\n",
       "      <td>11.764706</td>\n",
       "    </tr>\n",
       "    <tr>\n",
       "      <th>immigration</th>\n",
       "      <td>5.882353</td>\n",
       "    </tr>\n",
       "    <tr>\n",
       "      <th>other</th>\n",
       "      <td>5.882353</td>\n",
       "    </tr>\n",
       "    <tr>\n",
       "      <th>regulatory</th>\n",
       "      <td>5.882353</td>\n",
       "    </tr>\n",
       "    <tr>\n",
       "      <th>wage_hour</th>\n",
       "      <td>47.058824</td>\n",
       "    </tr>\n",
       "    <tr>\n",
       "      <th rowspan=\"14\" valign=\"top\">district</th>\n",
       "      <th>FCRA</th>\n",
       "      <td>4.000000</td>\n",
       "    </tr>\n",
       "    <tr>\n",
       "      <th>TCPA</th>\n",
       "      <td>1.333333</td>\n",
       "    </tr>\n",
       "    <tr>\n",
       "      <th>bankruptcy</th>\n",
       "      <td>6.666667</td>\n",
       "    </tr>\n",
       "    <tr>\n",
       "      <th>classification</th>\n",
       "      <td>8.000000</td>\n",
       "    </tr>\n",
       "    <tr>\n",
       "      <th>contract</th>\n",
       "      <td>2.666667</td>\n",
       "    </tr>\n",
       "    <tr>\n",
       "      <th>discrimination</th>\n",
       "      <td>10.666667</td>\n",
       "    </tr>\n",
       "    <tr>\n",
       "      <th>environment</th>\n",
       "      <td>1.333333</td>\n",
       "    </tr>\n",
       "    <tr>\n",
       "      <th>fraud</th>\n",
       "      <td>1.333333</td>\n",
       "    </tr>\n",
       "    <tr>\n",
       "      <th>immigration</th>\n",
       "      <td>1.333333</td>\n",
       "    </tr>\n",
       "    <tr>\n",
       "      <th>other</th>\n",
       "      <td>4.000000</td>\n",
       "    </tr>\n",
       "    <tr>\n",
       "      <th>regulatory</th>\n",
       "      <td>2.666667</td>\n",
       "    </tr>\n",
       "    <tr>\n",
       "      <th>securities</th>\n",
       "      <td>2.666667</td>\n",
       "    </tr>\n",
       "    <tr>\n",
       "      <th>sex_harass</th>\n",
       "      <td>2.666667</td>\n",
       "    </tr>\n",
       "    <tr>\n",
       "      <th>wage_hour</th>\n",
       "      <td>50.666667</td>\n",
       "    </tr>\n",
       "  </tbody>\n",
       "</table>\n",
       "</div>"
      ],
      "text/plain": [
       "                           case_name_short\n",
       "court_type case_type                      \n",
       "circuit    classification        11.764706\n",
       "           criminal              11.764706\n",
       "           environment           11.764706\n",
       "           immigration            5.882353\n",
       "           other                  5.882353\n",
       "           regulatory             5.882353\n",
       "           wage_hour             47.058824\n",
       "district   FCRA                   4.000000\n",
       "           TCPA                   1.333333\n",
       "           bankruptcy             6.666667\n",
       "           classification         8.000000\n",
       "           contract               2.666667\n",
       "           discrimination        10.666667\n",
       "           environment            1.333333\n",
       "           fraud                  1.333333\n",
       "           immigration            1.333333\n",
       "           other                  4.000000\n",
       "           regulatory             2.666667\n",
       "           securities             2.666667\n",
       "           sex_harass             2.666667\n",
       "           wage_hour             50.666667"
      ]
     },
     "execution_count": 18,
     "metadata": {},
     "output_type": "execute_result"
    }
   ],
   "source": [
    "case_types = data.groupby(['court_type','case_type'])[['case_name_short']].count()\n",
    "case_types.groupby('court_type').apply(lambda x: (x / x.sum()) * 100)"
   ]
  },
  {
   "cell_type": "markdown",
   "metadata": {},
   "source": [
    "Let's look only at district court cases that centered on arbitration.  \n",
    "What was the case type breakdown?"
   ]
  },
  {
   "cell_type": "code",
   "execution_count": 19,
   "metadata": {},
   "outputs": [
    {
     "data": {
      "text/html": [
       "<div>\n",
       "<style scoped>\n",
       "    .dataframe tbody tr th:only-of-type {\n",
       "        vertical-align: middle;\n",
       "    }\n",
       "\n",
       "    .dataframe tbody tr th {\n",
       "        vertical-align: top;\n",
       "    }\n",
       "\n",
       "    .dataframe thead th {\n",
       "        text-align: right;\n",
       "    }\n",
       "</style>\n",
       "<table border=\"1\" class=\"dataframe\">\n",
       "  <thead>\n",
       "    <tr style=\"text-align: right;\">\n",
       "      <th></th>\n",
       "      <th>case_name_short</th>\n",
       "    </tr>\n",
       "    <tr>\n",
       "      <th>case_type</th>\n",
       "      <th></th>\n",
       "    </tr>\n",
       "  </thead>\n",
       "  <tbody>\n",
       "    <tr>\n",
       "      <th>FCRA</th>\n",
       "      <td>2</td>\n",
       "    </tr>\n",
       "    <tr>\n",
       "      <th>TCPA</th>\n",
       "      <td>1</td>\n",
       "    </tr>\n",
       "    <tr>\n",
       "      <th>bankruptcy</th>\n",
       "      <td>5</td>\n",
       "    </tr>\n",
       "    <tr>\n",
       "      <th>classification</th>\n",
       "      <td>6</td>\n",
       "    </tr>\n",
       "    <tr>\n",
       "      <th>contract</th>\n",
       "      <td>2</td>\n",
       "    </tr>\n",
       "    <tr>\n",
       "      <th>discrimination</th>\n",
       "      <td>7</td>\n",
       "    </tr>\n",
       "    <tr>\n",
       "      <th>other</th>\n",
       "      <td>2</td>\n",
       "    </tr>\n",
       "    <tr>\n",
       "      <th>securities</th>\n",
       "      <td>2</td>\n",
       "    </tr>\n",
       "    <tr>\n",
       "      <th>sex_harass</th>\n",
       "      <td>2</td>\n",
       "    </tr>\n",
       "    <tr>\n",
       "      <th>wage_hour</th>\n",
       "      <td>34</td>\n",
       "    </tr>\n",
       "  </tbody>\n",
       "</table>\n",
       "</div>"
      ],
      "text/plain": [
       "                case_name_short\n",
       "case_type                      \n",
       "FCRA                          2\n",
       "TCPA                          1\n",
       "bankruptcy                    5\n",
       "classification                6\n",
       "contract                      2\n",
       "discrimination                7\n",
       "other                         2\n",
       "securities                    2\n",
       "sex_harass                    2\n",
       "wage_hour                    34"
      ]
     },
     "execution_count": 19,
     "metadata": {},
     "output_type": "execute_result"
    }
   ],
   "source": [
    "district_arb = data.loc[(data['court_type'] == 'district') & (data['legal_issue'] == 'arbitration')]\n",
    "district_arb.groupby('case_type')[['case_name_short']].count()"
   ]
  },
  {
   "cell_type": "markdown",
   "metadata": {},
   "source": [
    "Subset to *only those involving workplace-related claims*.\n",
    "Break down the outcomes"
   ]
  },
  {
   "cell_type": "code",
   "execution_count": 20,
   "metadata": {},
   "outputs": [],
   "source": [
    "district_arb_workplace = district_arb.loc[\n",
    "    (district_arb['case_type'] == 'wage_hour') |\n",
    "    (district_arb['case_type'] == 'sex_harass') |\n",
    "    (district_arb['case_type'] == 'classification') |\n",
    "    (district_arb['case_type'] == 'discrimination')]"
   ]
  },
  {
   "cell_type": "code",
   "execution_count": 21,
   "metadata": {},
   "outputs": [
    {
     "data": {
      "text/html": [
       "<div>\n",
       "<style scoped>\n",
       "    .dataframe tbody tr th:only-of-type {\n",
       "        vertical-align: middle;\n",
       "    }\n",
       "\n",
       "    .dataframe tbody tr th {\n",
       "        vertical-align: top;\n",
       "    }\n",
       "\n",
       "    .dataframe thead th {\n",
       "        text-align: right;\n",
       "    }\n",
       "</style>\n",
       "<table border=\"1\" class=\"dataframe\">\n",
       "  <thead>\n",
       "    <tr style=\"text-align: right;\">\n",
       "      <th></th>\n",
       "      <th>case_name_short</th>\n",
       "    </tr>\n",
       "    <tr>\n",
       "      <th>outcome_code</th>\n",
       "      <th></th>\n",
       "    </tr>\n",
       "  </thead>\n",
       "  <tbody>\n",
       "    <tr>\n",
       "      <th>arb_compel</th>\n",
       "      <td>33</td>\n",
       "    </tr>\n",
       "    <tr>\n",
       "      <th>arb_revive</th>\n",
       "      <td>1</td>\n",
       "    </tr>\n",
       "    <tr>\n",
       "      <th>no_arb</th>\n",
       "      <td>6</td>\n",
       "    </tr>\n",
       "    <tr>\n",
       "      <th>other</th>\n",
       "      <td>9</td>\n",
       "    </tr>\n",
       "  </tbody>\n",
       "</table>\n",
       "</div>"
      ],
      "text/plain": [
       "              case_name_short\n",
       "outcome_code                 \n",
       "arb_compel                 33\n",
       "arb_revive                  1\n",
       "no_arb                      6\n",
       "other                       9"
      ]
     },
     "execution_count": 21,
     "metadata": {},
     "output_type": "execute_result"
    }
   ],
   "source": [
    "district_arb_workplace.groupby('outcome_code')[['case_name_short']].count()"
   ]
  },
  {
   "cell_type": "markdown",
   "metadata": {},
   "source": [
    "Now the percentage breakdown again."
   ]
  },
  {
   "cell_type": "code",
   "execution_count": 22,
   "metadata": {},
   "outputs": [
    {
     "data": {
      "text/html": [
       "<div>\n",
       "<style scoped>\n",
       "    .dataframe tbody tr th:only-of-type {\n",
       "        vertical-align: middle;\n",
       "    }\n",
       "\n",
       "    .dataframe tbody tr th {\n",
       "        vertical-align: top;\n",
       "    }\n",
       "\n",
       "    .dataframe thead th {\n",
       "        text-align: right;\n",
       "    }\n",
       "</style>\n",
       "<table border=\"1\" class=\"dataframe\">\n",
       "  <thead>\n",
       "    <tr style=\"text-align: right;\">\n",
       "      <th></th>\n",
       "      <th>case_name_short</th>\n",
       "    </tr>\n",
       "    <tr>\n",
       "      <th>outcome_code</th>\n",
       "      <th></th>\n",
       "    </tr>\n",
       "  </thead>\n",
       "  <tbody>\n",
       "    <tr>\n",
       "      <th>arb_compel</th>\n",
       "      <td>67.346939</td>\n",
       "    </tr>\n",
       "    <tr>\n",
       "      <th>arb_revive</th>\n",
       "      <td>2.040816</td>\n",
       "    </tr>\n",
       "    <tr>\n",
       "      <th>no_arb</th>\n",
       "      <td>12.244898</td>\n",
       "    </tr>\n",
       "    <tr>\n",
       "      <th>other</th>\n",
       "      <td>18.367347</td>\n",
       "    </tr>\n",
       "  </tbody>\n",
       "</table>\n",
       "</div>"
      ],
      "text/plain": [
       "              case_name_short\n",
       "outcome_code                 \n",
       "arb_compel          67.346939\n",
       "arb_revive           2.040816\n",
       "no_arb              12.244898\n",
       "other               18.367347"
      ]
     },
     "execution_count": 22,
     "metadata": {},
     "output_type": "execute_result"
    }
   ],
   "source": [
    "workplace_outcomes = district_arb_workplace.groupby('outcome_code')[['case_name_short']].count()\n",
    "workplace_outcomes.apply(lambda x: (x / x.sum()) * 100)"
   ]
  }
 ],
 "metadata": {
  "kernelspec": {
   "display_name": "Python 3",
   "language": "python",
   "name": "python3"
  },
  "language_info": {
   "codemirror_mode": {
    "name": "ipython",
    "version": 3
   },
   "file_extension": ".py",
   "mimetype": "text/x-python",
   "name": "python",
   "nbconvert_exporter": "python",
   "pygments_lexer": "ipython3",
   "version": "3.6.8"
  }
 },
 "nbformat": 4,
 "nbformat_minor": 2
}
